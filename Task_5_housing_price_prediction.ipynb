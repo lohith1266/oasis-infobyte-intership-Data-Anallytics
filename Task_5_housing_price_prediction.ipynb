{
  "nbformat": 4,
  "nbformat_minor": 0,
  "metadata": {
    "colab": {
      "provenance": [],
      "authorship_tag": "ABX9TyNWKYtdlSw3iEmiF9utirHb",
      "include_colab_link": true
    },
    "kernelspec": {
      "name": "python3",
      "display_name": "Python 3"
    },
    "language_info": {
      "name": "python"
    }
  },
  "cells": [
    {
      "cell_type": "markdown",
      "metadata": {
        "id": "view-in-github",
        "colab_type": "text"
      },
      "source": [
        "<a href=\"https://colab.research.google.com/github/lohith1266/oasis-infobyte-intership-Data-Anallytics/blob/main/Task_5_housing_price_prediction.ipynb\" target=\"_parent\"><img src=\"https://colab.research.google.com/assets/colab-badge.svg\" alt=\"Open In Colab\"/></a>"
      ]
    },
    {
      "cell_type": "code",
      "execution_count": null,
      "metadata": {
        "colab": {
          "base_uri": "https://localhost:8080/",
          "height": 1000
        },
        "id": "JJ_bIK2BHoDP",
        "outputId": "1ebbe505-c665-4ed2-8a33-44ef6c9a15fd"
      },
      "outputs": [
        {
          "output_type": "stream",
          "name": "stdout",
          "text": [
            "Dataset Shape: (5, 13)\n",
            "      price  area  bedrooms  bathrooms  stories mainroad guestroom basement  \\\n",
            "0  13300000  7420         4          2        3      yes        no       no   \n",
            "1  12250000  8960         4          4        4      yes        no       no   \n",
            "2  12250000  9960         3          2        2      yes        no      yes   \n",
            "3  12215000  7500         4          2        2      yes        no      yes   \n",
            "4  11410000  7420         4          1        2      yes       yes      yes   \n",
            "\n",
            "  hotwaterheating airconditioning  parking prefarea furnishingstatus  \n",
            "0              no             yes        2      yes        furnished  \n",
            "1              no             yes        3       no        furnished  \n",
            "2              no              no        2      yes   semi-furnished  \n",
            "3              no             yes        3      yes        furnished  \n",
            "4              no             yes        2       no        furnished  \n",
            "\n",
            "Data after encoding:\n",
            "       price  area  bedrooms  bathrooms  stories  mainroad  guestroom  \\\n",
            "0  13300000  7420         4          2        3         0          0   \n",
            "1  12250000  8960         4          4        4         0          0   \n",
            "2  12250000  9960         3          2        2         0          0   \n",
            "3  12215000  7500         4          2        2         0          0   \n",
            "4  11410000  7420         4          1        2         0          1   \n",
            "\n",
            "   basement  hotwaterheating  airconditioning  parking  prefarea  \\\n",
            "0         0                0                1        2         1   \n",
            "1         0                0                1        3         0   \n",
            "2         1                0                0        2         1   \n",
            "3         1                0                1        3         1   \n",
            "4         1                0                1        2         0   \n",
            "\n",
            "   furnishingstatus  \n",
            "0                 0  \n",
            "1                 0  \n",
            "2                 1  \n",
            "3                 0  \n",
            "4                 0  \n",
            "\n",
            "Model Performance:\n",
            "RMSE: 1603872.6780847386\n",
            "R-squared: nan\n"
          ]
        },
        {
          "output_type": "stream",
          "name": "stderr",
          "text": [
            "/usr/local/lib/python3.12/dist-packages/sklearn/metrics/_regression.py:1266: UndefinedMetricWarning: R^2 score is not well-defined with less than two samples.\n",
            "  warnings.warn(msg, UndefinedMetricWarning)\n"
          ]
        },
        {
          "output_type": "display_data",
          "data": {
            "text/plain": [
              "<Figure size 600x600 with 1 Axes>"
            ],
            "image/png": "[encoded data removed]"
          },
          "metadata": {}
        },
        {
          "output_type": "stream",
          "name": "stdout",
          "text": [
            "\n",
            "Example House Features:\n",
            " area                8960\n",
            "bedrooms               4\n",
            "bathrooms              4\n",
            "stories                4\n",
            "mainroad               0\n",
            "guestroom              0\n",
            "basement               0\n",
            "hotwaterheating        0\n",
            "airconditioning        1\n",
            "parking                3\n",
            "prefarea               0\n",
            "furnishingstatus       0\n",
            "Name: 1, dtype: int64\n",
            "Predicted Price: 13853872.678084739\n"
          ]
        },
        {
          "output_type": "stream",
          "name": "stderr",
          "text": [
            "/usr/local/lib/python3.12/dist-packages/sklearn/utils/validation.py:2739: UserWarning: X does not have valid feature names, but LinearRegression was fitted with feature names\n",
            "  warnings.warn(\n"
          ]
        }
      ],
      "source": [
        "# Step 1: Import Libraries\n",
        "import pandas as pd\n",
        "import numpy as np\n",
        "import matplotlib.pyplot as plt\n",
        "import seaborn as sns\n",
        "\n",
        "from sklearn.model_selection import train_test_split\n",
        "from sklearn.linear_model import LinearRegression\n",
        "from sklearn.metrics import mean_squared_error, r2_score\n",
        "from sklearn.preprocessing import LabelEncoder\n",
        "\n",
        "# Step 2: Load Dataset\n",
        "df = pd.read_excel(\"/content/Housing_Dataset.xlsx\")\n",
        "\n",
        "print(\"Dataset Shape:\", df.shape)\n",
        "print(df.head())\n",
        "\n",
        "# Step 3: Data Preprocessing\n",
        "# Convert categorical columns to numerical using Label Encoding\n",
        "categorical_cols = ['mainroad', 'guestroom', 'basement',\n",
        "                    'hotwaterheating', 'airconditioning',\n",
        "                    'prefarea', 'furnishingstatus']\n",
        "\n",
        "le = LabelEncoder()\n",
        "for col in categorical_cols:\n",
        "    df[col] = le.fit_transform(df[col])\n",
        "\n",
        "print(\"\\nData after encoding:\\n\", df.head())\n",
        "\n",
        "# Step 4: Define Features (X) and Target (y)\n",
        "X = df.drop(\"price\", axis=1)\n",
        "y = df[\"price\"]\n",
        "\n",
        "# Step 5: Split Dataset\n",
        "X_train, X_test, y_train, y_test = train_test_split(\n",
        "    X, y, test_size=0.2, random_state=42\n",
        ")\n",
        "\n",
        "# Step 6: Train Linear Regression Model\n",
        "model = LinearRegression()\n",
        "model.fit(X_train, y_train)\n",
        "\n",
        "# Step 7: Predictions\n",
        "y_pred = model.predict(X_test)\n",
        "\n",
        "# Step 8: Model Evaluation\n",
        "mse = mean_squared_error(y_test, y_pred)\n",
        "rmse = np.sqrt(mse)\n",
        "r2 = r2_score(y_test, y_pred)\n",
        "\n",
        "print(\"\\nModel Performance:\")\n",
        "print(\"RMSE:\", rmse)\n",
        "print(\"R-squared:\", r2)\n",
        "\n",
        "# Step 9: Visualization\n",
        "plt.figure(figsize=(6,6))\n",
        "sns.scatterplot(x=y_test, y=y_pred)\n",
        "plt.xlabel(\"Actual Prices\")\n",
        "plt.ylabel(\"Predicted Prices\")\n",
        "plt.title(\"Actual vs Predicted House Prices\")\n",
        "plt.show()\n",
        "\n",
        "# Step 10: Example Prediction\n",
        "sample_house = X_test.iloc[0].values.reshape(1, -1)\n",
        "pred_price = model.predict(sample_house)\n",
        "print(\"\\nExample House Features:\\n\", X_test.iloc[0])\n",
        "print(\"Predicted Price:\", pred_price[0])\n"
      ]
    }
  ]
}